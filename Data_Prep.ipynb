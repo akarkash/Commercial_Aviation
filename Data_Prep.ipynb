{
 "cells": [
  {
   "cell_type": "markdown",
   "id": "df99f633-f2da-4a5e-b080-80e4e714a449",
   "metadata": {},
   "source": [
    "# Government Aviation - Denied Boarding\n",
    "\n",
    "The Data is taken from [Data.gov](https://catalog.data.gov/dataset/commercial-aviation-involuntary-denied-boarding), and it concerns the number of air travel passengers boarded and denied boarding by month. "
   ]
  },
  {
   "cell_type": "code",
   "execution_count": 33,
   "id": "d3325731-1b82-4eaa-bfd0-8beb3e10d159",
   "metadata": {},
   "outputs": [],
   "source": [
    "# Importing packages and loading data\n",
    "import os as os\n",
    "import pandas as pd\n",
    "import numpy as np\n",
    "import matplotlib.pyplot as plt\n",
    "os.getcwd()\n",
    "os.listdir()\n",
    "raw_data = pd.read_csv('Commercial_Aviation.csv')"
   ]
  },
  {
   "cell_type": "markdown",
   "id": "842cc4a0-e601-437d-bcc7-665df3a3cc08",
   "metadata": {},
   "source": [
    "## Data Exploration"
   ]
  },
  {
   "cell_type": "code",
   "execution_count": 34,
   "id": "67c3b160-5dc5-415c-ae78-c6071984da9d",
   "metadata": {},
   "outputs": [
    {
     "name": "stdout",
     "output_type": "stream",
     "text": [
      "<class 'pandas.core.frame.DataFrame'>\n",
      "RangeIndex: 899 entries, 0 to 898\n",
      "Data columns (total 29 columns):\n",
      " #   Column                   Non-Null Count  Dtype  \n",
      "---  ------                   --------------  -----  \n",
      " 0   YEAR                     899 non-null    int64  \n",
      " 1   MONTH                    899 non-null    int64  \n",
      " 2   QUARTER                  899 non-null    int64  \n",
      " 3   MKT_CARRIER              682 non-null    object \n",
      " 4   MKT_CARRIER_AIRLINE_ID   684 non-null    float64\n",
      " 5   MKT_CARRIER_NAME         684 non-null    object \n",
      " 6   MKT_UNIQUE_CARRIER       684 non-null    object \n",
      " 7   MKT_UNIQUE_CARRIER_NAME  684 non-null    object \n",
      " 8   OP_CARRIER               899 non-null    object \n",
      " 9   OP_CARRIER_AIRLINE_ID    898 non-null    float64\n",
      " 10  OP_CARRIER_NAME          898 non-null    object \n",
      " 11  OP_UNIQUE_CARRIER        898 non-null    object \n",
      " 12  OP_UNIQUE_CARRIER_NAME   898 non-null    object \n",
      " 13  PAX_ALT_TRANS            899 non-null    int64  \n",
      " 14  PAX_NO_ALT_TRANS         899 non-null    int64  \n",
      " 15  PAX_NO_COMP_1            899 non-null    int64  \n",
      " 16  PAX_NO_COMP_2            899 non-null    int64  \n",
      " 17  PAX_NO_COMP_3            899 non-null    int64  \n",
      " 18  TOT_DEN_BOARDING         899 non-null    int64  \n",
      " 19  PAX_COMP_1               899 non-null    int64  \n",
      " 20  PAX_COMP_2               899 non-null    int64  \n",
      " 21  PAX_UPGRADE              812 non-null    float64\n",
      " 22  PAX_DOWNGRADE            812 non-null    float64\n",
      " 23  TOT_BOARDING             899 non-null    int64  \n",
      " 24  COMP_PAID_1              814 non-null    float64\n",
      " 25  COMP_PAID_2              814 non-null    float64\n",
      " 26  COMP_PAID_3              899 non-null    int64  \n",
      " 27  CODE_SHARE               886 non-null    object \n",
      " 28  OP_CARRIER_SOURCE        886 non-null    object \n",
      "dtypes: float64(6), int64(13), object(10)\n",
      "memory usage: 203.8+ KB\n"
     ]
    },
    {
     "data": {
      "text/plain": [
       "(899, 29)"
      ]
     },
     "execution_count": 34,
     "metadata": {},
     "output_type": "execute_result"
    }
   ],
   "source": [
    "raw_data.info()\n",
    "raw_data.shape"
   ]
  },
  {
   "cell_type": "markdown",
   "id": "0585e068-c684-446d-bb58-e17d0bb2fba3",
   "metadata": {},
   "source": [
    "## Filtered subset data"
   ]
  },
  {
   "cell_type": "code",
   "execution_count": 38,
   "id": "dc13f1f6-557f-43e9-9b73-5c6bdfdb0fa4",
   "metadata": {},
   "outputs": [],
   "source": [
    "new_set = raw_data[['YEAR','MONTH','MKT_CARRIER','MKT_CARRIER_NAME','OP_CARRIER',\n",
    "                    'OP_CARRIER_NAME','TOT_DEN_BOARDING','TOT_BOARDING']]"
   ]
  },
  {
   "cell_type": "code",
   "execution_count": 46,
   "id": "7d47668d-c287-430c-8b8f-d8709242aba9",
   "metadata": {},
   "outputs": [
    {
     "name": "stderr",
     "output_type": "stream",
     "text": [
      "C:\\Users\\ahmed\\AppData\\Local\\Temp\\ipykernel_10264\\1981551347.py:1: SettingWithCopyWarning: \n",
      "A value is trying to be set on a copy of a slice from a DataFrame.\n",
      "Try using .loc[row_indexer,col_indexer] = value instead\n",
      "\n",
      "See the caveats in the documentation: https://pandas.pydata.org/pandas-docs/stable/user_guide/indexing.html#returning-a-view-versus-a-copy\n",
      "  new_set['Date'] = pd.to_datetime(new_set[['YEAR','MONTH']].assign(DAY = 1)).dt.to_period('M')\n"
     ]
    }
   ],
   "source": [
    "new_set['Date'] = pd.to_datetime(new_set[['YEAR','MONTH']].assign(DAY = 1)).dt.to_period('M')"
   ]
  },
  {
   "cell_type": "code",
   "execution_count": 53,
   "id": "6e0661fb-bfc2-4aaa-a28c-b34bc0b44a49",
   "metadata": {},
   "outputs": [],
   "source": [
    "del(new_set['YEAR'])"
   ]
  },
  {
   "cell_type": "code",
   "execution_count": 54,
   "id": "d198e1d5-123b-4633-aaf0-901f5559039f",
   "metadata": {},
   "outputs": [],
   "source": [
    "del(new_set['MONTH'])"
   ]
  },
  {
   "cell_type": "code",
   "execution_count": 55,
   "id": "5c57e5b4-139b-4eaf-a58d-33b37bf72f25",
   "metadata": {},
   "outputs": [
    {
     "data": {
      "text/html": [
       "<div>\n",
       "<style scoped>\n",
       "    .dataframe tbody tr th:only-of-type {\n",
       "        vertical-align: middle;\n",
       "    }\n",
       "\n",
       "    .dataframe tbody tr th {\n",
       "        vertical-align: top;\n",
       "    }\n",
       "\n",
       "    .dataframe thead th {\n",
       "        text-align: right;\n",
       "    }\n",
       "</style>\n",
       "<table border=\"1\" class=\"dataframe\">\n",
       "  <thead>\n",
       "    <tr style=\"text-align: right;\">\n",
       "      <th></th>\n",
       "      <th>MKT_CARRIER</th>\n",
       "      <th>MKT_CARRIER_NAME</th>\n",
       "      <th>OP_CARRIER</th>\n",
       "      <th>OP_CARRIER_NAME</th>\n",
       "      <th>TOT_DEN_BOARDING</th>\n",
       "      <th>TOT_BOARDING</th>\n",
       "      <th>Date</th>\n",
       "    </tr>\n",
       "  </thead>\n",
       "  <tbody>\n",
       "    <tr>\n",
       "      <th>0</th>\n",
       "      <td>UA</td>\n",
       "      <td>United Air Lines Inc.</td>\n",
       "      <td>ZW</td>\n",
       "      <td>Air Wisconsin Airlines Corp</td>\n",
       "      <td>1</td>\n",
       "      <td>762892</td>\n",
       "      <td>2018-03</td>\n",
       "    </tr>\n",
       "    <tr>\n",
       "      <th>1</th>\n",
       "      <td>UA</td>\n",
       "      <td>United Air Lines Inc.</td>\n",
       "      <td>ZW</td>\n",
       "      <td>Air Wisconsin Airlines Corp</td>\n",
       "      <td>0</td>\n",
       "      <td>1046874</td>\n",
       "      <td>2018-06</td>\n",
       "    </tr>\n",
       "    <tr>\n",
       "      <th>2</th>\n",
       "      <td>UA</td>\n",
       "      <td>United Air Lines Inc.</td>\n",
       "      <td>ZW</td>\n",
       "      <td>Air Wisconsin Airlines Corp</td>\n",
       "      <td>0</td>\n",
       "      <td>979383</td>\n",
       "      <td>2018-09</td>\n",
       "    </tr>\n",
       "    <tr>\n",
       "      <th>3</th>\n",
       "      <td>UA</td>\n",
       "      <td>United Air Lines Inc.</td>\n",
       "      <td>ZW</td>\n",
       "      <td>Air Wisconsin Airlines Corp</td>\n",
       "      <td>0</td>\n",
       "      <td>997846</td>\n",
       "      <td>2018-12</td>\n",
       "    </tr>\n",
       "    <tr>\n",
       "      <th>4</th>\n",
       "      <td>UA</td>\n",
       "      <td>United Air Lines Inc.</td>\n",
       "      <td>ZW</td>\n",
       "      <td>Air Wisconsin Airlines Corp</td>\n",
       "      <td>1</td>\n",
       "      <td>926950</td>\n",
       "      <td>2019-03</td>\n",
       "    </tr>\n",
       "  </tbody>\n",
       "</table>\n",
       "</div>"
      ],
      "text/plain": [
       "  MKT_CARRIER       MKT_CARRIER_NAME  ... TOT_BOARDING     Date\n",
       "0          UA  United Air Lines Inc.  ...       762892  2018-03\n",
       "1          UA  United Air Lines Inc.  ...      1046874  2018-06\n",
       "2          UA  United Air Lines Inc.  ...       979383  2018-09\n",
       "3          UA  United Air Lines Inc.  ...       997846  2018-12\n",
       "4          UA  United Air Lines Inc.  ...       926950  2019-03\n",
       "\n",
       "[5 rows x 7 columns]"
      ]
     },
     "execution_count": 55,
     "metadata": {},
     "output_type": "execute_result"
    }
   ],
   "source": [
    "new_set.head(5)"
   ]
  },
  {
   "cell_type": "markdown",
   "id": "08da8fb8-e1cb-4497-9b2d-3fa7630c0cc2",
   "metadata": {},
   "source": [
    "## Checking uniqueness "
   ]
  },
  {
   "cell_type": "code",
   "execution_count": 56,
   "id": "23fc71f3-40e0-4371-9fd5-37731549c978",
   "metadata": {},
   "outputs": [
    {
     "name": "stdout",
     "output_type": "stream",
     "text": [
      "<class 'pandas.core.frame.DataFrame'>\n",
      "RangeIndex: 899 entries, 0 to 898\n",
      "Data columns (total 7 columns):\n",
      " #   Column            Non-Null Count  Dtype    \n",
      "---  ------            --------------  -----    \n",
      " 0   MKT_CARRIER       682 non-null    object   \n",
      " 1   MKT_CARRIER_NAME  684 non-null    object   \n",
      " 2   OP_CARRIER        899 non-null    object   \n",
      " 3   OP_CARRIER_NAME   898 non-null    object   \n",
      " 4   TOT_DEN_BOARDING  899 non-null    int64    \n",
      " 5   TOT_BOARDING      899 non-null    int64    \n",
      " 6   Date              899 non-null    period[M]\n",
      "dtypes: int64(2), object(4), period[M](1)\n",
      "memory usage: 49.3+ KB\n"
     ]
    }
   ],
   "source": [
    "new_set.info()"
   ]
  },
  {
   "cell_type": "code",
   "execution_count": 57,
   "id": "9fe38a8f-fef0-478c-bbc8-4b1bed2735e9",
   "metadata": {},
   "outputs": [
    {
     "data": {
      "text/plain": [
       "count     682\n",
       "unique     13\n",
       "top        UA\n",
       "freq      158\n",
       "Name: MKT_CARRIER, dtype: object"
      ]
     },
     "execution_count": 57,
     "metadata": {},
     "output_type": "execute_result"
    }
   ],
   "source": [
    "new_set['MKT_CARRIER'].describe()"
   ]
  },
  {
   "cell_type": "markdown",
   "id": "b2890822-d247-4833-b811-3ee851d1c1f8",
   "metadata": {},
   "source": [
    "## Checking for Nan values"
   ]
  },
  {
   "cell_type": "code",
   "execution_count": 59,
   "id": "2b7011e7-2633-4040-a51f-985eb6e1990d",
   "metadata": {},
   "outputs": [
    {
     "data": {
      "text/plain": [
       "array(['UA', 'FL', 'AS', nan, 'G4', 'AA', 'DL', 'F9', 'F10', 'HA', 'B6',\n",
       "       'WN', 'NK', 'VX'], dtype=object)"
      ]
     },
     "execution_count": 59,
     "metadata": {},
     "output_type": "execute_result"
    }
   ],
   "source": [
    "new_set['MKT_CARRIER'].unique()"
   ]
  },
  {
   "cell_type": "code",
   "execution_count": 62,
   "id": "432f622a-346a-4ecb-a279-9e494e2b8401",
   "metadata": {},
   "outputs": [
    {
     "name": "stderr",
     "output_type": "stream",
     "text": [
      "C:\\Users\\ahmed\\AppData\\Local\\Temp\\ipykernel_10264\\1564739708.py:4: SettingWithCopyWarning: \n",
      "A value is trying to be set on a copy of a slice from a DataFrame.\n",
      "Try using .loc[row_indexer,col_indexer] = value instead\n",
      "\n",
      "See the caveats in the documentation: https://pandas.pydata.org/pandas-docs/stable/user_guide/indexing.html#returning-a-view-versus-a-copy\n",
      "  new_set['MKT_CARRIER'] = pd.Categorical(char_mkt_carrier)\n"
     ]
    }
   ],
   "source": [
    "char_mkt_carrier = np.where(new_set['MKT_CARRIER'].isnull()==True,\n",
    "                            'NA',\n",
    "                            new_set['MKT_CARRIER'])\n",
    "new_set['MKT_CARRIER'] = pd.Categorical(char_mkt_carrier)"
   ]
  },
  {
   "cell_type": "code",
   "execution_count": 63,
   "id": "34b7e957-728a-4188-b7e1-0d85963dcc42",
   "metadata": {},
   "outputs": [
    {
     "name": "stderr",
     "output_type": "stream",
     "text": [
      "C:\\Users\\ahmed\\AppData\\Local\\Temp\\ipykernel_10264\\3738069311.py:4: SettingWithCopyWarning: \n",
      "A value is trying to be set on a copy of a slice from a DataFrame.\n",
      "Try using .loc[row_indexer,col_indexer] = value instead\n",
      "\n",
      "See the caveats in the documentation: https://pandas.pydata.org/pandas-docs/stable/user_guide/indexing.html#returning-a-view-versus-a-copy\n",
      "  new_set['MKT_CARRIER_NAME'] = pd.Categorical(char_mkt_carrier_name)\n"
     ]
    }
   ],
   "source": [
    "char_mkt_carrier_name = np.where(new_set['MKT_CARRIER_NAME'].isnull()==True,\n",
    "                            'UNKNOWN',\n",
    "                            new_set['MKT_CARRIER_NAME'])\n",
    "new_set['MKT_CARRIER_NAME'] = pd.Categorical(char_mkt_carrier_name)"
   ]
  },
  {
   "cell_type": "code",
   "execution_count": 64,
   "id": "42a2848b-5fbb-4dca-9a60-d459a34d96f6",
   "metadata": {},
   "outputs": [],
   "source": [
    "new_set.to_csv('Aviation_read.csv')"
   ]
  },
  {
   "cell_type": "code",
   "execution_count": null,
   "id": "e6c30b68-218d-4fa7-a1f3-2b4c68d4cbe0",
   "metadata": {},
   "outputs": [],
   "source": []
  }
 ],
 "metadata": {
  "kernelspec": {
   "display_name": "Python 3 (ipykernel)",
   "language": "python",
   "name": "python3"
  },
  "language_info": {
   "codemirror_mode": {
    "name": "ipython",
    "version": 3
   },
   "file_extension": ".py",
   "mimetype": "text/x-python",
   "name": "python",
   "nbconvert_exporter": "python",
   "pygments_lexer": "ipython3",
   "version": "3.12.3"
  }
 },
 "nbformat": 4,
 "nbformat_minor": 5
}
